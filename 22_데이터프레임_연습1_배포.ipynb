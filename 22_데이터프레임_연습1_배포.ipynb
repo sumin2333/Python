{
 "cells": [
  {
   "cell_type": "markdown",
   "metadata": {},
   "source": [
    "# 연습: DataFrame 1"
   ]
  },
  {
   "cell_type": "code",
   "execution_count": 1,
   "metadata": {},
   "outputs": [],
   "source": [
    "#판다스를 가져오기"
   ]
  },
  {
   "cell_type": "markdown",
   "metadata": {
    "collapsed": true
   },
   "source": [
    "### 예제 1 \n",
    "1. Nan이 아닌 부분을 출력하시오.\n",
    "2. NaN의 값을 0으로 바꾼후 출력하시오."
   ]
  },
  {
   "cell_type": "code",
   "execution_count": null,
   "metadata": {},
   "outputs": [],
   "source": [
    "sdata = {'Ohio': 35000,\n",
    "         'Texas': 71000,\n",
    "         'Oregon': 16000,\n",
    "         'Utah': 5000}\n",
    "\n",
    "states = ['California', 'Ohio', 'Oregon', 'Texas'] #california is not in sdata\n",
    "obj4 = Series(sdata, index=states)\n",
    "obj4"
   ]
  },
  {
   "cell_type": "code",
   "execution_count": null,
   "metadata": {},
   "outputs": [],
   "source": [
    "# 예제 1.1\n"
   ]
  },
  {
   "cell_type": "code",
   "execution_count": null,
   "metadata": {},
   "outputs": [],
   "source": [
    "# 예제 1.2\n"
   ]
  },
  {
   "cell_type": "code",
   "execution_count": null,
   "metadata": {},
   "outputs": [],
   "source": []
  },
  {
   "cell_type": "markdown",
   "metadata": {},
   "source": [
    "### 예제 2\n",
    "\n",
    "index가 'four'인 행의 값을 [1999, 'Ohio', 3.2, 0]으로 변경하시오.\n",
    "\n",
    "`columns=['year', 'state', 'pop', 'debt']`"
   ]
  },
  {
   "cell_type": "code",
   "execution_count": null,
   "metadata": {
    "scrolled": true
   },
   "outputs": [],
   "source": [
    "frame = DataFrame(data, columns=['year', 'state', 'pop', 'debt'], #debt는 없으므로 NaN으로 채움\n",
    "                   index=['one', 'two', 'three', 'four', 'five']) #index를 지정해줌\n",
    "\n",
    "frame"
   ]
  },
  {
   "cell_type": "code",
   "execution_count": null,
   "metadata": {
    "scrolled": true
   },
   "outputs": [],
   "source": [
    "# 예제 2\n"
   ]
  },
  {
   "cell_type": "code",
   "execution_count": null,
   "metadata": {},
   "outputs": [],
   "source": []
  },
  {
   "cell_type": "markdown",
   "metadata": {},
   "source": [
    "### 예제 3\n",
    "위 frame에서 index가 two, column이 state 인 값을 'Nevada'로 변경하시오."
   ]
  },
  {
   "cell_type": "code",
   "execution_count": null,
   "metadata": {
    "scrolled": true
   },
   "outputs": [],
   "source": [
    "# 예제 3\n"
   ]
  },
  {
   "cell_type": "code",
   "execution_count": null,
   "metadata": {},
   "outputs": [],
   "source": []
  },
  {
   "cell_type": "markdown",
   "metadata": {},
   "source": [
    "### 예제 4 \n",
    "위 frame에 year=2002이고 state='Ohio' 일때 True를 갖는 etc 컬럼을 생성하시오."
   ]
  },
  {
   "cell_type": "code",
   "execution_count": null,
   "metadata": {},
   "outputs": [],
   "source": []
  },
  {
   "cell_type": "markdown",
   "metadata": {},
   "source": [
    "### 예제 5 \n",
    "1. 위 frame에서 one, three, four 행에서 year, state, etc 열만 가져와 frame2에 저장하시오.\n",
    "2. 수정된 frame2에서 year > 2000, state == Ohio 인 행을 출력 하시오."
   ]
  },
  {
   "cell_type": "code",
   "execution_count": null,
   "metadata": {},
   "outputs": [],
   "source": [
    "# 예제 5.1\n",
    "\n"
   ]
  },
  {
   "cell_type": "code",
   "execution_count": null,
   "metadata": {},
   "outputs": [],
   "source": [
    "# 예제 5.2\n"
   ]
  },
  {
   "cell_type": "markdown",
   "metadata": {},
   "source": [
    "### 예제 6 \n",
    "데이터 프레임의 각 행과 열의 합을 각각 계산하여 출력하시오."
   ]
  },
  {
   "cell_type": "code",
   "execution_count": null,
   "metadata": {},
   "outputs": [],
   "source": [
    "frame = DataFrame(np.random.randn(4, 3), columns=list('bde'), #bde 열을 생성\n",
    "                  index=['Utah', 'Ohio', 'Texas', 'Oregon']) #Utah, Ohio, Texas, Oregon 행을 생성\n",
    "frame"
   ]
  },
  {
   "cell_type": "code",
   "execution_count": null,
   "metadata": {},
   "outputs": [],
   "source": [
    "# 예제 6:열의 합\n"
   ]
  },
  {
   "cell_type": "code",
   "execution_count": null,
   "metadata": {},
   "outputs": [],
   "source": [
    "# 예제 6: 행의 합\n"
   ]
  },
  {
   "cell_type": "code",
   "execution_count": null,
   "metadata": {},
   "outputs": [],
   "source": []
  },
  {
   "cell_type": "markdown",
   "metadata": {},
   "source": [
    "### 예제 7\n",
    "아래 int_frame을 index, column기준으로 정렬하시오. (단, index, column 모두 정렬되어야 함)<br>"
   ]
  },
  {
   "cell_type": "code",
   "execution_count": null,
   "metadata": {},
   "outputs": [],
   "source": [
    "int_frame = DataFrame(np.arange(8).reshape((2, 4)), index=['three', 'one'],\n",
    "                  columns=['d', 'b', 'c', 'a']) #column 기준 정렬\n"
   ]
  },
  {
   "cell_type": "code",
   "execution_count": null,
   "metadata": {
    "scrolled": true
   },
   "outputs": [],
   "source": [
    "# 예제 7\n"
   ]
  },
  {
   "cell_type": "code",
   "execution_count": null,
   "metadata": {},
   "outputs": [],
   "source": []
  },
  {
   "cell_type": "markdown",
   "metadata": {},
   "source": [
    "### 예제 8\n",
    "코스피와 IBM 가격정보를 불러와 상관관계를 파악하시오.\n",
    "- 코스피 = '^KS11'\n",
    "- IBM = 'IBM'\n",
    "- 애플 = 'APLE'\n",
    "\n",
    "# 주가 데이터를 불러올 티커 목록\n",
    "tickers = ['^KS11', 'IBM', 'AAPL', 'GOOGL', 'MSFT', 'TSLA']  # AAPL: 애플, GOOGL: 구글, MSFT: 마이크로소프트, TSLA: 테슬라"
   ]
  },
  {
   "cell_type": "code",
   "execution_count": null,
   "metadata": {},
   "outputs": [],
   "source": [
    "#!pip install pandas_datareader\n",
    "!pip install yfinance\n"
   ]
  },
  {
   "cell_type": "code",
   "execution_count": null,
   "metadata": {},
   "outputs": [],
   "source": [
    "# 예제 8\n",
    "# from pandas_datareader import data as web\n",
    "# all_data = {}\n",
    "# for ticker in ['^KS11', 'IBM']:\n",
    "#     all_data[ticker] = web.get_data_yahoo(ticker)\n",
    "\n",
    "# price = DataFrame({tic: data['Adj Close']\n",
    "#                    for tic, data in all_data.items()})\n",
    "\n",
    "import yfinance as yf\n",
    "import pandas as pd\n",
    "\n",
    "tickers = ['^KS11', 'IBM', 'AAPL', 'GOOGL', 'MSFT', 'TSLA']\n",
    "all_data = {}\n",
    "\n",
    "# Yahoo Finance 데이터를 가져옴\n",
    "for ticker in tickers:\n",
    "    all_data[ticker] = yf.download(ticker)\n",
    "\n",
    "# 종가 데이터를 추출하여 DataFrame 생성\n",
    "price = pd.DataFrame({tic: data['Adj Close'] for tic, data in all_data.items()})\n",
    "\n",
    "# 상관계수 계산\n",
    "print(price.corr())\n",
    "\n",
    "price.corr()"
   ]
  },
  {
   "cell_type": "markdown",
   "metadata": {},
   "source": [
    "### 예제 9\n",
    "1. 2~3행에서 '0'컬럼을 None으로 변경 하시오.\n",
    "2. 0~2행에서 '2'컬럼을 None으로 변경하시오.\n",
    "3. 각 컬럼의 None값들을 각 컬럼의 평균값으로 채우시오."
   ]
  },
  {
   "cell_type": "code",
   "execution_count": null,
   "metadata": {
    "scrolled": true
   },
   "outputs": [],
   "source": []
  },
  {
   "cell_type": "code",
   "execution_count": null,
   "metadata": {},
   "outputs": [],
   "source": [
    "# 예제 9.1 2~3행에서 '0'컬럼을 None으로 변경 하시오.\n"
   ]
  },
  {
   "cell_type": "code",
   "execution_count": null,
   "metadata": {},
   "outputs": [],
   "source": [
    "# 예제 9.2 0~2행에서 '2'컬럼을 None으로 변경하시오.\n"
   ]
  },
  {
   "cell_type": "code",
   "execution_count": null,
   "metadata": {
    "scrolled": true
   },
   "outputs": [],
   "source": [
    "# 예제 9.3 각 컬럼의 None값들을 각 컬럼의 평균값으로 채우시오.\n"
   ]
  },
  {
   "cell_type": "markdown",
   "metadata": {},
   "source": [
    "### 예제 10\n",
    "1. multi_idx 이름으로 0 ~ 20의 값을 갖는 (5,4) 데이터 프레임을 생성하시오.\n",
    "  - index 상위 색인: a, a, b, b, c\n",
    "  - index 하위 색인: 1,2, 1, 2, 1\n",
    "  - columns 상위 색인: 'KOR', 'KOR', 'USA', 'USA'\n",
    "  - columns 하위 색인: 'Seoul', 'Busan', 'LA', 'NewYork'\n",
    "2. index=b, column= KOR의 Seoul에 해당하는 값을 출력하시오.\n"
   ]
  },
  {
   "cell_type": "code",
   "execution_count": null,
   "metadata": {},
   "outputs": [],
   "source": [
    "# 예제 10.1\n"
   ]
  },
  {
   "cell_type": "code",
   "execution_count": null,
   "metadata": {},
   "outputs": [],
   "source": [
    "# 예제 10.2\n"
   ]
  },
  {
   "cell_type": "code",
   "execution_count": null,
   "metadata": {},
   "outputs": [],
   "source": []
  },
  {
   "cell_type": "markdown",
   "metadata": {},
   "source": [
    "### 예제 11\n",
    "1. 위 데이터프레임에 index(key1, key2), column(Country, Region)의 이름을 설정하시오.\n",
    "2. 2번째 index로 데이터 프레임을 정렬 하시오.\n",
    "3. column의 레벨을 바꾸시오."
   ]
  },
  {
   "cell_type": "code",
   "execution_count": null,
   "metadata": {},
   "outputs": [],
   "source": [
    "# 예제 11.1\n"
   ]
  },
  {
   "cell_type": "code",
   "execution_count": null,
   "metadata": {},
   "outputs": [],
   "source": [
    "# 예제 11.2\n"
   ]
  },
  {
   "cell_type": "code",
   "execution_count": null,
   "metadata": {},
   "outputs": [],
   "source": [
    "# 예제 11.3\n"
   ]
  },
  {
   "cell_type": "markdown",
   "metadata": {},
   "source": [
    "---"
   ]
  },
  {
   "cell_type": "code",
   "execution_count": null,
   "metadata": {},
   "outputs": [],
   "source": [
    "# end of file"
   ]
  },
  {
   "cell_type": "code",
   "execution_count": null,
   "metadata": {},
   "outputs": [],
   "source": []
  }
 ],
 "metadata": {
  "anaconda-cloud": {},
  "kernelspec": {
   "display_name": "base",
   "language": "python",
   "name": "python3"
  },
  "language_info": {
   "codemirror_mode": {
    "name": "ipython",
    "version": 3
   },
   "file_extension": ".py",
   "mimetype": "text/x-python",
   "name": "python",
   "nbconvert_exporter": "python",
   "pygments_lexer": "ipython3",
   "version": "3.11.4"
  },
  "vp": {
   "base_numbering": 1,
   "nav_menu": {},
   "number_sections": true,
   "sideBar": true,
   "title_cell": "VisualPython",
   "title_sidebar": "VisualPython",
   "vpPosition": {
    "height": "calc(100% - 180px)",
    "right": "10px",
    "top": "150px",
    "width": "50%"
   },
   "vp_cell": false,
   "vp_section_display": true,
   "vp_window_display": false
  }
 },
 "nbformat": 4,
 "nbformat_minor": 1
}
